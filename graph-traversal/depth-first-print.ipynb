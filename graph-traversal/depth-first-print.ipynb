{
 "cells": [
  {
   "cell_type": "code",
   "execution_count": 10,
   "metadata": {},
   "outputs": [],
   "source": [
    "graph = {\n",
    "    'a':['c', 'b'],\n",
    "    'b':['d'],\n",
    "    'c':['e'],\n",
    "    'd':['f'],\n",
    "    'e':[],\n",
    "    'f':[],\n",
    "}\n",
    "\n"
   ]
  },
  {
   "cell_type": "code",
   "execution_count": 5,
   "metadata": {},
   "outputs": [],
   "source": [
    "def first_search(graph, source, search = 'depth'):\n",
    "    assert search == 'breadth' or search == 'depth', 'not valid search'\n",
    "\n",
    "    stack = [source]\n",
    "    while len(stack) > 0: \n",
    "        if search == 'depth':\n",
    "            current = stack.pop(-1)\n",
    "        else:\n",
    "            current = stack.pop(0)\n",
    "        print(current)\n",
    "        [stack.append(item) for item in graph[current]]\n",
    "    print('finished')\n",
    "\n"
   ]
  },
  {
   "cell_type": "code",
   "execution_count": 11,
   "metadata": {},
   "outputs": [
    {
     "name": "stdout",
     "output_type": "stream",
     "text": [
      "a\n",
      "c\n",
      "b\n",
      "e\n",
      "d\n",
      "f\n",
      "finished\n"
     ]
    }
   ],
   "source": [
    "first_search(graph, 'a', 'breadth')"
   ]
  }
 ],
 "metadata": {
  "kernelspec": {
   "display_name": "Python 3",
   "language": "python",
   "name": "python3"
  },
  "language_info": {
   "codemirror_mode": {
    "name": "ipython",
    "version": 3
   },
   "file_extension": ".py",
   "mimetype": "text/x-python",
   "name": "python",
   "nbconvert_exporter": "python",
   "pygments_lexer": "ipython3",
   "version": "3.11.0"
  },
  "orig_nbformat": 4,
  "vscode": {
   "interpreter": {
    "hash": "c261aea317cc0286b3b3261fbba9abdec21eaa57589985bb7a274bf54d6cc0a7"
   }
  }
 },
 "nbformat": 4,
 "nbformat_minor": 2
}
